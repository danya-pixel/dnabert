{
 "cells": [
  {
   "cell_type": "code",
   "execution_count": 1,
   "metadata": {},
   "outputs": [
    {
     "data": {
      "text/plain": [
       "True"
      ]
     },
     "execution_count": 1,
     "metadata": {},
     "output_type": "execute_result"
    }
   ],
   "source": [
    "import torch\n",
    "torch.cuda.is_available()\n"
   ]
  },
  {
   "cell_type": "code",
   "execution_count": 21,
   "metadata": {},
   "outputs": [
    {
     "data": {
      "text/html": [
       "<div>\n",
       "<style scoped>\n",
       "    .dataframe tbody tr th:only-of-type {\n",
       "        vertical-align: middle;\n",
       "    }\n",
       "\n",
       "    .dataframe tbody tr th {\n",
       "        vertical-align: top;\n",
       "    }\n",
       "\n",
       "    .dataframe thead th {\n",
       "        text-align: right;\n",
       "    }\n",
       "</style>\n",
       "<table border=\"1\" class=\"dataframe\">\n",
       "  <thead>\n",
       "    <tr style=\"text-align: right;\">\n",
       "      <th></th>\n",
       "      <th>sequence</th>\n",
       "      <th>label</th>\n",
       "    </tr>\n",
       "  </thead>\n",
       "  <tbody>\n",
       "    <tr>\n",
       "      <th>0</th>\n",
       "      <td>CTTTCA TTTCAT TTCATC TCATCA CATCAG ATCAGC TCAG...</td>\n",
       "      <td>0</td>\n",
       "    </tr>\n",
       "    <tr>\n",
       "      <th>1</th>\n",
       "      <td>GGATGA GATGAT ATGATG TGATGG GATGGC ATGGCG TGGC...</td>\n",
       "      <td>1</td>\n",
       "    </tr>\n",
       "    <tr>\n",
       "      <th>2</th>\n",
       "      <td>TACAGA ACAGAG CAGAGT AGAGTT GAGTTA AGTTAC GTTA...</td>\n",
       "      <td>0</td>\n",
       "    </tr>\n",
       "    <tr>\n",
       "      <th>3</th>\n",
       "      <td>TGCTGG GCTGGA CTGGAC TGGACC GGACCG GACCGG ACCG...</td>\n",
       "      <td>1</td>\n",
       "    </tr>\n",
       "    <tr>\n",
       "      <th>4</th>\n",
       "      <td>CTCCCT TCCCTG CCCTGC CCTGCT CTGCTG TGCTGC GCTG...</td>\n",
       "      <td>0</td>\n",
       "    </tr>\n",
       "    <tr>\n",
       "      <th>...</th>\n",
       "      <td>...</td>\n",
       "      <td>...</td>\n",
       "    </tr>\n",
       "    <tr>\n",
       "      <th>46613</th>\n",
       "      <td>GATCTG ATCTGA TCTGAA CTGAAA TGAAAA GAAAAG AAAA...</td>\n",
       "      <td>1</td>\n",
       "    </tr>\n",
       "    <tr>\n",
       "      <th>46614</th>\n",
       "      <td>CCAAAA CAAAAG AAAAGC AAAGCT AAGCTG AGCTGG GCTG...</td>\n",
       "      <td>0</td>\n",
       "    </tr>\n",
       "    <tr>\n",
       "      <th>46615</th>\n",
       "      <td>CAGATA AGATAC GATACT ATACTC TACTCC ACTCCG CTCC...</td>\n",
       "      <td>1</td>\n",
       "    </tr>\n",
       "    <tr>\n",
       "      <th>46616</th>\n",
       "      <td>CTATAA TATAAA ATAAAG TAAAGC AAAGCC AAGCCT AGCC...</td>\n",
       "      <td>0</td>\n",
       "    </tr>\n",
       "    <tr>\n",
       "      <th>46617</th>\n",
       "      <td>ATAACA TAACAT AACATT ACATTC CATTCC ATTCCC TTCC...</td>\n",
       "      <td>1</td>\n",
       "    </tr>\n",
       "  </tbody>\n",
       "</table>\n",
       "<p>46618 rows × 2 columns</p>\n",
       "</div>"
      ],
      "text/plain": [
       "                                                sequence  label\n",
       "0      CTTTCA TTTCAT TTCATC TCATCA CATCAG ATCAGC TCAG...      0\n",
       "1      GGATGA GATGAT ATGATG TGATGG GATGGC ATGGCG TGGC...      1\n",
       "2      TACAGA ACAGAG CAGAGT AGAGTT GAGTTA AGTTAC GTTA...      0\n",
       "3      TGCTGG GCTGGA CTGGAC TGGACC GGACCG GACCGG ACCG...      1\n",
       "4      CTCCCT TCCCTG CCCTGC CCTGCT CTGCTG TGCTGC GCTG...      0\n",
       "...                                                  ...    ...\n",
       "46613  GATCTG ATCTGA TCTGAA CTGAAA TGAAAA GAAAAG AAAA...      1\n",
       "46614  CCAAAA CAAAAG AAAAGC AAAGCT AAGCTG AGCTGG GCTG...      0\n",
       "46615  CAGATA AGATAC GATACT ATACTC TACTCC ACTCCG CTCC...      1\n",
       "46616  CTATAA TATAAA ATAAAG TAAAGC AAAGCC AAGCCT AGCC...      0\n",
       "46617  ATAACA TAACAT AACATT ACATTC CATTCC ATTCCC TTCC...      1\n",
       "\n",
       "[46618 rows x 2 columns]"
      ]
     },
     "execution_count": 21,
     "metadata": {},
     "output_type": "execute_result"
    }
   ],
   "source": [
    "import pandas as pd\n",
    "\n",
    "a = pd.read_csv(\"/home/danya-sakharov/dna_bert/finetune_model/sample_data/unknown_dataset/dev.tsv\", sep='\\t')\n",
    "a"
   ]
  },
  {
   "cell_type": "code",
   "execution_count": 22,
   "metadata": {},
   "outputs": [],
   "source": [
    "import numpy as np\n",
    "a = np.load(\"/home/danya-sakharov/dna_bert/finetune_model/result/6/pred_results.npy\")"
   ]
  },
  {
   "cell_type": "code",
   "execution_count": 23,
   "metadata": {},
   "outputs": [
    {
     "data": {
      "text/plain": [
       "46618"
      ]
     },
     "execution_count": 23,
     "metadata": {},
     "output_type": "execute_result"
    }
   ],
   "source": [
    "len(a)"
   ]
  },
  {
   "cell_type": "code",
   "execution_count": 24,
   "metadata": {},
   "outputs": [
    {
     "data": {
      "text/plain": [
       "(array([41206.,  1937.,   701.,   424.,   265.,   254.,   193.,   197.,\n",
       "          304.,  1137.]),\n",
       " array([8.14272571e-05, 1.00061006e-01, 2.00040585e-01, 3.00020163e-01,\n",
       "        3.99999742e-01, 4.99979321e-01, 5.99958900e-01, 6.99938478e-01,\n",
       "        7.99918057e-01, 8.99897636e-01, 9.99877214e-01]),\n",
       " <BarContainer object of 10 artists>)"
      ]
     },
     "execution_count": 24,
     "metadata": {},
     "output_type": "execute_result"
    },
    {
     "data": {
      "image/png": "[encoded data removed]",
      "text/plain": [
       "<Figure size 640x480 with 1 Axes>"
      ]
     },
     "metadata": {},
     "output_type": "display_data"
    }
   ],
   "source": [
    "import matplotlib.pyplot as plt\n",
    "new = []\n",
    "for i in a:\n",
    "    new.append(float(i))\n",
    "plt.hist(new)"
   ]
  },
  {
   "cell_type": "code",
   "execution_count": 25,
   "metadata": {},
   "outputs": [
    {
     "data": {
      "text/plain": [
       "Counter({True: 44533, False: 2085})"
      ]
     },
     "execution_count": 25,
     "metadata": {},
     "output_type": "execute_result"
    }
   ],
   "source": [
    "from collections import Counter\n",
    "new = []\n",
    "for i in a:\n",
    "    new.append(float(i)<0.5)\n",
    "Counter(new)"
   ]
  },
  {
   "cell_type": "code",
   "execution_count": 26,
   "metadata": {},
   "outputs": [],
   "source": [
    "import numpy as np\n",
    "a = np.load(\"/home/danya-sakharov/dna_bert/finetune_model/result/6/pred_results.npy\")"
   ]
  },
  {
   "cell_type": "code",
   "execution_count": 27,
   "metadata": {},
   "outputs": [
    {
     "data": {
      "text/plain": [
       "(array([133.,  58.,  21.,  10.,   4.,   3.,   0.,   1.,   0.,   1.]),\n",
       " array([5.46633266e-04, 5.73480598e-02, 1.14149486e-01, 1.70950913e-01,\n",
       "        2.27752339e-01, 2.84553766e-01, 3.41355192e-01, 3.98156619e-01,\n",
       "        4.54958045e-01, 5.11759472e-01, 5.68560898e-01]),\n",
       " <BarContainer object of 10 artists>)"
      ]
     },
     "execution_count": 27,
     "metadata": {},
     "output_type": "execute_result"
    },
    {
     "data": {
      "image/png": "[encoded data removed]",
      "text/plain": [
       "<Figure size 640x480 with 1 Axes>"
      ]
     },
     "metadata": {},
     "output_type": "display_data"
    }
   ],
   "source": [
    "import matplotlib.pyplot as plt\n",
    "new = []\n",
    "for i in a:\n",
    "    new.append(float(i))\n",
    "plt.hist(new)"
   ]
  },
  {
   "cell_type": "code",
   "execution_count": 28,
   "metadata": {},
   "outputs": [
    {
     "data": {
      "text/plain": [
       "Counter({True: 230, False: 1})"
      ]
     },
     "execution_count": 28,
     "metadata": {},
     "output_type": "execute_result"
    }
   ],
   "source": [
    "from collections import Counter\n",
    "new = []\n",
    "for i in a:\n",
    "    new.append(float(i)<0.5)\n",
    "Counter(new)"
   ]
  },
  {
   "cell_type": "code",
   "execution_count": null,
   "metadata": {},
   "outputs": [],
   "source": []
  }
 ],
 "metadata": {
  "kernelspec": {
   "display_name": "Python 3.10.6 ('.venv': poetry)",
   "language": "python",
   "name": "python3"
  },
  "language_info": {
   "codemirror_mode": {
    "name": "ipython",
    "version": 3
   },
   "file_extension": ".py",
   "mimetype": "text/x-python",
   "name": "python",
   "nbconvert_exporter": "python",
   "pygments_lexer": "ipython3",
   "version": "3.10.6"
  },
  "orig_nbformat": 4,
  "vscode": {
   "interpreter": {
    "hash": "04b81e70d5bd38e4df74eb3edf1894e52741ebca4e0ac3402808d913f3e78634"
   }
  }
 },
 "nbformat": 4,
 "nbformat_minor": 2
}
